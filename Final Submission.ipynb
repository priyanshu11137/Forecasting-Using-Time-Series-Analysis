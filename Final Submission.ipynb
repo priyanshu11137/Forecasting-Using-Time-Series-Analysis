{
  "nbformat": 4,
  "nbformat_minor": 0,
  "metadata": {
    "colab": {
      "provenance": []
    },
    "kernelspec": {
      "name": "python3",
      "display_name": "Python 3"
    },
    "language_info": {
      "name": "python"
    }
  },
  "cells": [
    {
      "cell_type": "code",
      "execution_count": null,
      "metadata": {
        "id": "7DCw_2vNn5rj"
      },
      "outputs": [],
      "source": [
        "import numpy as np\n",
        "import pandas as pd\n",
        "import matplotlib.pyplot as plt\n",
        "import sklearn\n",
        "import seaborn as sns\n",
        "from sklearn.linear_model import LinearRegression\n",
        "from sklearn.metrics import mean_squared_error, mean_squared_log_error\n",
        "from sklearn.model_selection import train_test_split\n",
        "import tensorflow as tf\n",
        "from sklearn.preprocessing import LabelBinarizer\n",
        "from scipy.optimize import curve_fit"
      ]
    },
    {
      "cell_type": "code",
      "source": [
        "# from google.colab import files\n",
        "# uploaded = files.upload()"
      ],
      "metadata": {
        "id": "qZY_SfgDn-IX"
      },
      "execution_count": null,
      "outputs": []
    },
    {
      "cell_type": "code",
      "source": [
        "from google.colab import drive\n",
        "drive.mount('/content/drive')"
      ],
      "metadata": {
        "colab": {
          "base_uri": "https://localhost:8080/"
        },
        "id": "e9BrDPWKfvK6",
        "outputId": "81b9d4da-c870-4709-be17-5141e93bbacf"
      },
      "execution_count": null,
      "outputs": [
        {
          "output_type": "stream",
          "name": "stdout",
          "text": [
            "Drive already mounted at /content/drive; to attempt to forcibly remount, call drive.mount(\"/content/drive\", force_remount=True).\n"
          ]
        }
      ]
    },
    {
      "cell_type": "code",
      "source": [
        "path = \"/content/drive/MyDrive/learning/Factors3.csv\""
      ],
      "metadata": {
        "id": "slXZeIcPeuku"
      },
      "execution_count": null,
      "outputs": []
    },
    {
      "cell_type": "code",
      "source": [
        "data_df = pd.read_csv(path)\n",
        "print(data_df.isnull().sum())"
      ],
      "metadata": {
        "colab": {
          "base_uri": "https://localhost:8080/"
        },
        "id": "TgOrBjHOoP4_",
        "outputId": "01a3c689-dc69-470e-fb9d-8fe1f8faee40"
      },
      "execution_count": null,
      "outputs": [
        {
          "output_type": "stream",
          "name": "stdout",
          "text": [
            "Year                                        0\n",
            "Manufacturing, value added (% of GDP)       0\n",
            "Gdp per capita                              0\n",
            "Rural population (% of total population)    0\n",
            "Urban Population                            0\n",
            "Inflation                                   0\n",
            "Export                                      0\n",
            "dtype: int64\n"
          ]
        }
      ]
    },
    {
      "cell_type": "markdown",
      "source": [
        "More than 3 factors were used to predict GDP per capita so one more factor Export were added subsequently to improve accuracy"
      ],
      "metadata": {
        "id": "nEj5qaaUgloo"
      }
    },
    {
      "cell_type": "code",
      "source": [
        "data_df"
      ],
      "metadata": {
        "id": "x0rex_sbodxN",
        "colab": {
          "base_uri": "https://localhost:8080/",
          "height": 424
        },
        "outputId": "bbfc31da-b17a-49ca-8cd1-c2398938cd24"
      },
      "execution_count": null,
      "outputs": [
        {
          "output_type": "execute_result",
          "data": {
            "text/plain": [
              "    Year  Manufacturing, value added (% of GDP)  Gdp per capita  \\\n",
              "0   1960                               14.75012        82.18860   \n",
              "1   1961                               15.35384        85.35430   \n",
              "2   1962                               15.86330        89.88176   \n",
              "3   1963                               15.75239       101.12640   \n",
              "4   1964                               14.85074       115.53750   \n",
              "..   ...                                    ...             ...   \n",
              "57  2017                               15.01824      1980.66700   \n",
              "58  2018                               14.88153      1996.91500   \n",
              "59  2019                               13.47362      2100.75100   \n",
              "60  2020                               13.68339      1927.70800   \n",
              "61  2021                               13.97577      2256.59400   \n",
              "\n",
              "    Rural population (% of total population)  Urban Population  Inflation  \\\n",
              "0                                     82.076            17.924      1.780   \n",
              "1                                     81.968            18.032      1.700   \n",
              "2                                     81.782            18.218      3.630   \n",
              "3                                     81.595            18.405      2.985   \n",
              "4                                     81.405            18.595     13.360   \n",
              "..                                       ...               ...        ...   \n",
              "57                                    66.400            33.600      3.330   \n",
              "58                                    65.970            34.030      3.940   \n",
              "59                                    65.530            34.470      3.730   \n",
              "60                                    65.074            34.926      6.620   \n",
              "61                                    64.600            35.400      5.130   \n",
              "\n",
              "       Export  \n",
              "0    4.463156  \n",
              "1    4.303586  \n",
              "2    4.168975  \n",
              "3    4.280503  \n",
              "4    3.725551  \n",
              "..        ...  \n",
              "57  18.791765  \n",
              "58  19.927829  \n",
              "59  18.690983  \n",
              "60  18.708899  \n",
              "61  21.398534  \n",
              "\n",
              "[62 rows x 7 columns]"
            ],
            "text/html": [
              "\n",
              "  <div id=\"df-de511149-eb90-4b88-93cb-8467cd2cdada\">\n",
              "    <div class=\"colab-df-container\">\n",
              "      <div>\n",
              "<style scoped>\n",
              "    .dataframe tbody tr th:only-of-type {\n",
              "        vertical-align: middle;\n",
              "    }\n",
              "\n",
              "    .dataframe tbody tr th {\n",
              "        vertical-align: top;\n",
              "    }\n",
              "\n",
              "    .dataframe thead th {\n",
              "        text-align: right;\n",
              "    }\n",
              "</style>\n",
              "<table border=\"1\" class=\"dataframe\">\n",
              "  <thead>\n",
              "    <tr style=\"text-align: right;\">\n",
              "      <th></th>\n",
              "      <th>Year</th>\n",
              "      <th>Manufacturing, value added (% of GDP)</th>\n",
              "      <th>Gdp per capita</th>\n",
              "      <th>Rural population (% of total population)</th>\n",
              "      <th>Urban Population</th>\n",
              "      <th>Inflation</th>\n",
              "      <th>Export</th>\n",
              "    </tr>\n",
              "  </thead>\n",
              "  <tbody>\n",
              "    <tr>\n",
              "      <th>0</th>\n",
              "      <td>1960</td>\n",
              "      <td>14.75012</td>\n",
              "      <td>82.18860</td>\n",
              "      <td>82.076</td>\n",
              "      <td>17.924</td>\n",
              "      <td>1.780</td>\n",
              "      <td>4.463156</td>\n",
              "    </tr>\n",
              "    <tr>\n",
              "      <th>1</th>\n",
              "      <td>1961</td>\n",
              "      <td>15.35384</td>\n",
              "      <td>85.35430</td>\n",
              "      <td>81.968</td>\n",
              "      <td>18.032</td>\n",
              "      <td>1.700</td>\n",
              "      <td>4.303586</td>\n",
              "    </tr>\n",
              "    <tr>\n",
              "      <th>2</th>\n",
              "      <td>1962</td>\n",
              "      <td>15.86330</td>\n",
              "      <td>89.88176</td>\n",
              "      <td>81.782</td>\n",
              "      <td>18.218</td>\n",
              "      <td>3.630</td>\n",
              "      <td>4.168975</td>\n",
              "    </tr>\n",
              "    <tr>\n",
              "      <th>3</th>\n",
              "      <td>1963</td>\n",
              "      <td>15.75239</td>\n",
              "      <td>101.12640</td>\n",
              "      <td>81.595</td>\n",
              "      <td>18.405</td>\n",
              "      <td>2.985</td>\n",
              "      <td>4.280503</td>\n",
              "    </tr>\n",
              "    <tr>\n",
              "      <th>4</th>\n",
              "      <td>1964</td>\n",
              "      <td>14.85074</td>\n",
              "      <td>115.53750</td>\n",
              "      <td>81.405</td>\n",
              "      <td>18.595</td>\n",
              "      <td>13.360</td>\n",
              "      <td>3.725551</td>\n",
              "    </tr>\n",
              "    <tr>\n",
              "      <th>...</th>\n",
              "      <td>...</td>\n",
              "      <td>...</td>\n",
              "      <td>...</td>\n",
              "      <td>...</td>\n",
              "      <td>...</td>\n",
              "      <td>...</td>\n",
              "      <td>...</td>\n",
              "    </tr>\n",
              "    <tr>\n",
              "      <th>57</th>\n",
              "      <td>2017</td>\n",
              "      <td>15.01824</td>\n",
              "      <td>1980.66700</td>\n",
              "      <td>66.400</td>\n",
              "      <td>33.600</td>\n",
              "      <td>3.330</td>\n",
              "      <td>18.791765</td>\n",
              "    </tr>\n",
              "    <tr>\n",
              "      <th>58</th>\n",
              "      <td>2018</td>\n",
              "      <td>14.88153</td>\n",
              "      <td>1996.91500</td>\n",
              "      <td>65.970</td>\n",
              "      <td>34.030</td>\n",
              "      <td>3.940</td>\n",
              "      <td>19.927829</td>\n",
              "    </tr>\n",
              "    <tr>\n",
              "      <th>59</th>\n",
              "      <td>2019</td>\n",
              "      <td>13.47362</td>\n",
              "      <td>2100.75100</td>\n",
              "      <td>65.530</td>\n",
              "      <td>34.470</td>\n",
              "      <td>3.730</td>\n",
              "      <td>18.690983</td>\n",
              "    </tr>\n",
              "    <tr>\n",
              "      <th>60</th>\n",
              "      <td>2020</td>\n",
              "      <td>13.68339</td>\n",
              "      <td>1927.70800</td>\n",
              "      <td>65.074</td>\n",
              "      <td>34.926</td>\n",
              "      <td>6.620</td>\n",
              "      <td>18.708899</td>\n",
              "    </tr>\n",
              "    <tr>\n",
              "      <th>61</th>\n",
              "      <td>2021</td>\n",
              "      <td>13.97577</td>\n",
              "      <td>2256.59400</td>\n",
              "      <td>64.600</td>\n",
              "      <td>35.400</td>\n",
              "      <td>5.130</td>\n",
              "      <td>21.398534</td>\n",
              "    </tr>\n",
              "  </tbody>\n",
              "</table>\n",
              "<p>62 rows × 7 columns</p>\n",
              "</div>\n",
              "      <button class=\"colab-df-convert\" onclick=\"convertToInteractive('df-de511149-eb90-4b88-93cb-8467cd2cdada')\"\n",
              "              title=\"Convert this dataframe to an interactive table.\"\n",
              "              style=\"display:none;\">\n",
              "        \n",
              "  <svg xmlns=\"http://www.w3.org/2000/svg\" height=\"24px\"viewBox=\"0 0 24 24\"\n",
              "       width=\"24px\">\n",
              "    <path d=\"M0 0h24v24H0V0z\" fill=\"none\"/>\n",
              "    <path d=\"M18.56 5.44l.94 2.06.94-2.06 2.06-.94-2.06-.94-.94-2.06-.94 2.06-2.06.94zm-11 1L8.5 8.5l.94-2.06 2.06-.94-2.06-.94L8.5 2.5l-.94 2.06-2.06.94zm10 10l.94 2.06.94-2.06 2.06-.94-2.06-.94-.94-2.06-.94 2.06-2.06.94z\"/><path d=\"M17.41 7.96l-1.37-1.37c-.4-.4-.92-.59-1.43-.59-.52 0-1.04.2-1.43.59L10.3 9.45l-7.72 7.72c-.78.78-.78 2.05 0 2.83L4 21.41c.39.39.9.59 1.41.59.51 0 1.02-.2 1.41-.59l7.78-7.78 2.81-2.81c.8-.78.8-2.07 0-2.86zM5.41 20L4 18.59l7.72-7.72 1.47 1.35L5.41 20z\"/>\n",
              "  </svg>\n",
              "      </button>\n",
              "      \n",
              "  <style>\n",
              "    .colab-df-container {\n",
              "      display:flex;\n",
              "      flex-wrap:wrap;\n",
              "      gap: 12px;\n",
              "    }\n",
              "\n",
              "    .colab-df-convert {\n",
              "      background-color: #E8F0FE;\n",
              "      border: none;\n",
              "      border-radius: 50%;\n",
              "      cursor: pointer;\n",
              "      display: none;\n",
              "      fill: #1967D2;\n",
              "      height: 32px;\n",
              "      padding: 0 0 0 0;\n",
              "      width: 32px;\n",
              "    }\n",
              "\n",
              "    .colab-df-convert:hover {\n",
              "      background-color: #E2EBFA;\n",
              "      box-shadow: 0px 1px 2px rgba(60, 64, 67, 0.3), 0px 1px 3px 1px rgba(60, 64, 67, 0.15);\n",
              "      fill: #174EA6;\n",
              "    }\n",
              "\n",
              "    [theme=dark] .colab-df-convert {\n",
              "      background-color: #3B4455;\n",
              "      fill: #D2E3FC;\n",
              "    }\n",
              "\n",
              "    [theme=dark] .colab-df-convert:hover {\n",
              "      background-color: #434B5C;\n",
              "      box-shadow: 0px 1px 3px 1px rgba(0, 0, 0, 0.15);\n",
              "      filter: drop-shadow(0px 1px 2px rgba(0, 0, 0, 0.3));\n",
              "      fill: #FFFFFF;\n",
              "    }\n",
              "  </style>\n",
              "\n",
              "      <script>\n",
              "        const buttonEl =\n",
              "          document.querySelector('#df-de511149-eb90-4b88-93cb-8467cd2cdada button.colab-df-convert');\n",
              "        buttonEl.style.display =\n",
              "          google.colab.kernel.accessAllowed ? 'block' : 'none';\n",
              "\n",
              "        async function convertToInteractive(key) {\n",
              "          const element = document.querySelector('#df-de511149-eb90-4b88-93cb-8467cd2cdada');\n",
              "          const dataTable =\n",
              "            await google.colab.kernel.invokeFunction('convertToInteractive',\n",
              "                                                     [key], {});\n",
              "          if (!dataTable) return;\n",
              "\n",
              "          const docLinkHtml = 'Like what you see? Visit the ' +\n",
              "            '<a target=\"_blank\" href=https://colab.research.google.com/notebooks/data_table.ipynb>data table notebook</a>'\n",
              "            + ' to learn more about interactive tables.';\n",
              "          element.innerHTML = '';\n",
              "          dataTable['output_type'] = 'display_data';\n",
              "          await google.colab.output.renderOutput(dataTable, element);\n",
              "          const docLink = document.createElement('div');\n",
              "          docLink.innerHTML = docLinkHtml;\n",
              "          element.appendChild(docLink);\n",
              "        }\n",
              "      </script>\n",
              "    </div>\n",
              "  </div>\n",
              "  "
            ]
          },
          "metadata": {},
          "execution_count": 37
        }
      ]
    },
    {
      "cell_type": "code",
      "source": [
        "print(data_df.dtypes)"
      ],
      "metadata": {
        "id": "wHdrtkyVpEcY",
        "colab": {
          "base_uri": "https://localhost:8080/"
        },
        "outputId": "b721db11-714a-4c4b-f556-38ca543d4289"
      },
      "execution_count": null,
      "outputs": [
        {
          "output_type": "stream",
          "name": "stdout",
          "text": [
            "Year                                          int64\n",
            "Manufacturing, value added (% of GDP)       float64\n",
            "Gdp per capita                              float64\n",
            "Rural population (% of total population)    float64\n",
            "Urban Population                            float64\n",
            "Inflation                                   float64\n",
            "Export                                      float64\n",
            "dtype: object\n"
          ]
        }
      ]
    },
    {
      "cell_type": "markdown",
      "source": [
        "Rural population (% of total population) was removed as Urban population(%) is equal to 100-Rural population (% of total population) so it doesn't make sense to use both as there is very high correlationt. Below cell divides data into test and train and subsequent cell removes year from data used and train on it"
      ],
      "metadata": {
        "id": "76B6TKWZhHBW"
      }
    },
    {
      "cell_type": "code",
      "source": [
        "X=data_df.copy()\n",
        "X=X.drop([\"Gdp per capita\",\"Rural population (% of total population)\"],axis=1)\n",
        "y=data_df[\"Gdp per capita\"]\n",
        "X_train, X_test,y_train, y_test = train_test_split(X,y,random_state=104, test_size=0.25,shuffle=True)\n",
        "print(np.shape(X_train))\n",
        "print(np.shape(y_train))\n",
        "print(X_train.dtypes,y_train.dtypes)"
      ],
      "metadata": {
        "id": "0fQCzdakpPEr",
        "colab": {
          "base_uri": "https://localhost:8080/"
        },
        "outputId": "0e53aa17-ab56-4869-a0ed-334111572330"
      },
      "execution_count": null,
      "outputs": [
        {
          "output_type": "stream",
          "name": "stdout",
          "text": [
            "(46, 5)\n",
            "(46,)\n",
            "Year                                       int64\n",
            "Manufacturing, value added (% of GDP)    float64\n",
            "Urban Population                         float64\n",
            "Inflation                                float64\n",
            "Export                                   float64\n",
            "dtype: object float64\n"
          ]
        }
      ]
    },
    {
      "cell_type": "code",
      "source": [
        "ct_train=X_train.Year\n",
        "ct_test=X_test.Year\n",
        "from sklearn.decomposition import PCA\n",
        "pca = PCA(0.95)\n",
        "from sklearn.preprocessing import StandardScaler\n",
        "sc = StandardScaler()\n",
        "\n",
        "\n",
        "X_train=X_train.drop(columns = ['Year'])\n",
        "X_test=X_test.drop(columns = ['Year'])\n",
        "\n",
        "X_train = sc.fit_transform(X_train)\n",
        "X_test = sc.transform(X_test)\n",
        "\n",
        "X_train = pca.fit_transform(X_train)\n",
        "X_test = pca.transform(X_test)\n",
        "print(np.shape(X_train))\n",
        "print(np.shape(y_train))\n",
        "# print(X_train.dtype,y_train.dtype)"
      ],
      "metadata": {
        "id": "-u8pQSLKpsvR",
        "colab": {
          "base_uri": "https://localhost:8080/"
        },
        "outputId": "09d7b3f2-04a5-4ab2-d112-b3ec46d17b5b"
      },
      "execution_count": null,
      "outputs": [
        {
          "output_type": "stream",
          "name": "stdout",
          "text": [
            "(46, 3)\n",
            "(46,)\n"
          ]
        }
      ]
    },
    {
      "cell_type": "markdown",
      "source": [
        "Linear Regression Model with r2 score=0.7677\n",
        "This model performed poorly so as a result 4 more models were implemented subsequently Random forest Regressor, Decision Tree Regressor, Deep Neural Network and Polynomial Regression(degree=2)"
      ],
      "metadata": {
        "id": "_9eXn21Qh38b"
      }
    },
    {
      "cell_type": "code",
      "source": [
        "X_train"
      ],
      "metadata": {
        "id": "xnzyk2CsiYAe",
        "colab": {
          "base_uri": "https://localhost:8080/"
        },
        "outputId": "5f282c5a-9908-42d7-c11d-7cd4aa14cafd"
      },
      "execution_count": null,
      "outputs": [
        {
          "output_type": "execute_result",
          "data": {
            "text/plain": [
              "array([[ 0.48052187, -0.32060056, -0.47965927],\n",
              "       [-0.8019433 ,  0.33339017, -1.5969497 ],\n",
              "       [-0.57037752,  0.56986758,  0.05618959],\n",
              "       [-0.77314214,  1.54382067,  0.06239863],\n",
              "       [-1.67942975, -0.34477015, -0.6615106 ],\n",
              "       [-0.63442287,  0.56858337, -0.10170351],\n",
              "       [-0.36517905,  0.85062426, -0.33382102],\n",
              "       [-1.6191882 , -1.12156562,  0.5377461 ],\n",
              "       [-0.8745955 , -1.61741544, -2.38607753],\n",
              "       [ 2.09672136,  0.41823084,  0.11075989],\n",
              "       [ 0.24061124, -0.73878597,  0.12116399],\n",
              "       [-0.74172822,  0.55783009, -0.35299881],\n",
              "       [ 2.02180907, -0.61679018,  0.57919693],\n",
              "       [-0.04323355,  0.00603817, -0.19377062],\n",
              "       [-1.47648194, -0.49495318,  0.27777224],\n",
              "       [ 1.64527461,  0.82826172, -1.14632591],\n",
              "       [-1.71534381, -0.31317007,  1.25698824],\n",
              "       [ 1.7944743 , -1.08680008,  0.17356103],\n",
              "       [ 1.66282802,  1.40797941, -0.3413551 ],\n",
              "       [ 1.60973714,  0.60341682, -0.75998761],\n",
              "       [ 1.34427892, -0.29249226, -0.43627481],\n",
              "       [-1.12089886, -0.09096684, -0.30677595],\n",
              "       [-0.28567179,  0.87146316,  0.9714169 ],\n",
              "       [-1.64872121, -2.10430307, -0.00798178],\n",
              "       [ 1.76981104, -0.76775398,  0.28351039],\n",
              "       [-0.94813252,  0.41823831, -0.12011711],\n",
              "       [ 0.77074478, -0.5944759 , -0.24986236],\n",
              "       [ 2.20877134, -1.58077309,  1.17683088],\n",
              "       [ 2.20475243,  0.09794883,  1.0366755 ],\n",
              "       [ 0.03520119,  1.12328179, -0.2572026 ],\n",
              "       [ 1.95127342, -1.10520656,  0.36044936],\n",
              "       [ 1.81261829, -0.48377836, -0.02006977],\n",
              "       [-1.76555102, -1.36540348, -0.137081  ],\n",
              "       [-1.64812594, -0.51004219, -0.66720033],\n",
              "       [-1.47103956,  0.86776311,  1.74896756],\n",
              "       [ 1.78551732, -2.10194959,  1.31715568],\n",
              "       [ 0.24024208,  1.87520558, -1.02304093],\n",
              "       [ 1.98706476,  1.01715162, -0.64371583],\n",
              "       [ 0.20982659,  1.52224404, -0.99900335],\n",
              "       [-1.70924031, -2.01774236,  0.93543209],\n",
              "       [-0.62528624,  0.84669072, -0.52261721],\n",
              "       [ 0.16782955,  0.7978184 ,  0.88614266],\n",
              "       [-1.3205938 ,  3.36540842,  2.38851584],\n",
              "       [-0.70221061,  0.27607116, -0.68895272],\n",
              "       [-1.72060628, -0.95872678, -0.56723695],\n",
              "       [-1.77876532, -0.13886252,  0.72041892]])"
            ]
          },
          "metadata": {},
          "execution_count": 41
        }
      ]
    },
    {
      "cell_type": "code",
      "source": [
        "y_train"
      ],
      "metadata": {
        "id": "9q5_mlRxia9J",
        "colab": {
          "base_uri": "https://localhost:8080/"
        },
        "outputId": "45ea7bdd-84cc-461d-d729-c343d8aab0a9"
      },
      "execution_count": null,
      "outputs": [
        {
          "output_type": "execute_result",
          "data": {
            "text/plain": [
              "40     443.31420\n",
              "18     205.69340\n",
              "28     354.14920\n",
              "21     270.47060\n",
              "2       89.88176\n",
              "27     340.41680\n",
              "30     367.55660\n",
              "10     112.43450\n",
              "16     161.09210\n",
              "51    1458.10400\n",
              "39     441.99880\n",
              "22     274.11130\n",
              "54    1573.88600\n",
              "33     301.15900\n",
              "12     122.98190\n",
              "46     806.75330\n",
              "6       89.99730\n",
              "57    1980.66700\n",
              "49    1101.96100\n",
              "47    1028.33500\n",
              "45     714.86100\n",
              "15     158.03620\n",
              "31     303.05560\n",
              "9      107.62230\n",
              "56    1732.55400\n",
              "17     186.21350\n",
              "43     546.72660\n",
              "61    2256.59400\n",
              "53    1449.61000\n",
              "34     346.10300\n",
              "58    1996.91500\n",
              "55    1605.60500\n",
              "0       82.18860\n",
              "3      101.12640\n",
              "13     143.77870\n",
              "59    2100.75100\n",
              "35     373.76650\n",
              "48     998.52230\n",
              "36     399.95010\n",
              "8       99.87596\n",
              "24     276.66800\n",
              "38     413.29890\n",
              "14     163.47810\n",
              "25     296.43520\n",
              "1       85.35430\n",
              "5      119.31890\n",
              "Name: Gdp per capita, dtype: float64"
            ]
          },
          "metadata": {},
          "execution_count": 42
        }
      ]
    },
    {
      "cell_type": "code",
      "source": [
        "regr=LinearRegression()\n",
        "regr.fit(X_train,y_train)\n",
        "print(regr.score(X_train,y_train))"
      ],
      "metadata": {
        "id": "DPTiOKayqJFg",
        "colab": {
          "base_uri": "https://localhost:8080/"
        },
        "outputId": "d4970f60-763f-48d0-ceee-7ec8639ece67"
      },
      "execution_count": null,
      "outputs": [
        {
          "output_type": "stream",
          "name": "stdout",
          "text": [
            "0.8958819378566811\n"
          ]
        }
      ]
    },
    {
      "cell_type": "code",
      "source": [
        "y_pred = regr.predict(X_test)\n",
        "y_pred\n",
        "mean_squared_error(y_pred,y_test,squared=False)"
      ],
      "metadata": {
        "id": "8ZumlmuyqORq",
        "colab": {
          "base_uri": "https://localhost:8080/"
        },
        "outputId": "cb2a38cb-da73-4ead-d494-724eb2abe46b"
      },
      "execution_count": null,
      "outputs": [
        {
          "output_type": "execute_result",
          "data": {
            "text/plain": [
              "252.04565204120667"
            ]
          },
          "metadata": {},
          "execution_count": 44
        }
      ]
    },
    {
      "cell_type": "code",
      "source": [
        "# model4=np.poly1d(np.polyfit(,y_test,4))\n",
        "# polyline=np.linspace(1,15,20)\n",
        "# plt.scatter(ct_test,y_test)\n",
        "# plt.plot(polyline,model4(polyline),'--',color='red')\n",
        "# plt.show()\n"
      ],
      "metadata": {
        "id": "1rFDC9Fu8OL1"
      },
      "execution_count": null,
      "outputs": []
    },
    {
      "cell_type": "code",
      "source": [
        "plt.scatter(ct_test, y_test, color ='blue')#shows test data points with actual value of GDP\n",
        "plt.scatter(ct_test, y_pred, color='red')#shows test data points with PREDICTED VALUE OF GDP\n",
        "plt.scatter(ct_train,y_train,color='yellow')#SHOWS TRAIN DATA POINTS\n",
        "plt.xlabel('Year')\n",
        "plt.ylabel('GDP per capita')\n",
        "plt.xticks(rotation=30)\n",
        "plt.show()"
      ],
      "metadata": {
        "id": "7JzJV5_1qg_O",
        "colab": {
          "base_uri": "https://localhost:8080/",
          "height": 465
        },
        "outputId": "445d38d7-a7ef-45e0-b1a1-d2b5823f9076"
      },
      "execution_count": null,
      "outputs": [
        {
          "output_type": "display_data",
          "data": {
            "text/plain": [
              "<Figure size 640x480 with 1 Axes>"
            ],
            "image/png": "[encoded data removed]"
          },
          "metadata": {}
        }
      ]
    },
    {
      "cell_type": "code",
      "source": [
        "from sklearn.metrics import r2_score\n",
        "r2_score(y_test, y_pred)"
      ],
      "metadata": {
        "id": "W4AcZ0IIq4rU",
        "colab": {
          "base_uri": "https://localhost:8080/"
        },
        "outputId": "f4d3ca7f-dd03-4275-b1b4-50d02bf3adca"
      },
      "execution_count": null,
      "outputs": [
        {
          "output_type": "execute_result",
          "data": {
            "text/plain": [
              "0.7677681870999598"
            ]
          },
          "metadata": {},
          "execution_count": 47
        }
      ]
    },
    {
      "cell_type": "markdown",
      "source": [
        "Random Forest Regressor Model  starts here\n",
        "\n",
        "Below cell is implemented with a loop to find best value of n_estimators"
      ],
      "metadata": {
        "id": "E1tOI5G-jT70"
      }
    },
    {
      "cell_type": "code",
      "source": [
        "from sklearn.ensemble import RandomForestRegressor\n",
        "prevscore=0\n",
        "n_count_estimators=0\n",
        "for i in range(1,45):\n",
        "  regressorRandom = RandomForestRegressor(n_estimators = i, random_state = 104)\n",
        "  regressorRandom.fit(X_train, y_train)\n",
        "  y_forest_predict=regressorRandom.predict(X_test)\n",
        "  score=r2_score(y_test, y_forest_predict)\n",
        "  if score>prevscore:\n",
        "    prevscore=score\n",
        "    n_count_estimators=i\n",
        "print( n_count_estimators)\n",
        "\n"
      ],
      "metadata": {
        "id": "H2_ySUWosmxf",
        "colab": {
          "base_uri": "https://localhost:8080/"
        },
        "outputId": "02815939-c0f5-4ab3-f89e-6dd0fbe4e5ab"
      },
      "execution_count": null,
      "outputs": [
        {
          "output_type": "stream",
          "name": "stdout",
          "text": [
            "6\n"
          ]
        }
      ]
    },
    {
      "cell_type": "code",
      "source": [
        "regressorRandom = RandomForestRegressor(n_estimators = 6, random_state = 104)\n",
        "regressorRandom.fit(X_train, y_train)\n",
        "y_forest_predict=regressorRandom.predict(X_test)\n",
        "score=r2_score(y_test, y_forest_predict)\n",
        "score"
      ],
      "metadata": {
        "id": "-GFRxnuOtYOg",
        "colab": {
          "base_uri": "https://localhost:8080/"
        },
        "outputId": "22a7ef92-b73b-4deb-8fbb-fc3127431005"
      },
      "execution_count": null,
      "outputs": [
        {
          "output_type": "execute_result",
          "data": {
            "text/plain": [
              "0.9947197533167935"
            ]
          },
          "metadata": {},
          "execution_count": 49
        }
      ]
    },
    {
      "cell_type": "code",
      "source": [
        "print(y_forest_predict)\n",
        "print(mean_squared_error(y_forest_predict,y_test,squared=False))"
      ],
      "metadata": {
        "id": "-R9_ZtemtlGp",
        "colab": {
          "base_uri": "https://localhost:8080/"
        },
        "outputId": "b2def3dd-7b01-4676-f4fd-c10f32cda3e9"
      },
      "execution_count": null,
      "outputs": [
        {
          "output_type": "stream",
          "name": "stdout",
          "text": [
            "[1371.31688333  411.40781667   97.0479      326.4668      291.06143333\n",
            "  613.5584      217.09638333  294.99956667  101.62326     477.1273\n",
            " 2031.2905      134.23815     529.27196667  286.5516     1456.63783333\n",
            "  328.6024    ]\n",
            "38.00541331709831\n"
          ]
        }
      ]
    },
    {
      "cell_type": "code",
      "source": [
        "print(y_test)"
      ],
      "metadata": {
        "id": "15gKEo8mtoUs",
        "colab": {
          "base_uri": "https://localhost:8080/"
        },
        "outputId": "26bf6a44-36ed-4f41-c38b-e8fa6b004cb1"
      },
      "execution_count": null,
      "outputs": [
        {
          "output_type": "stream",
          "name": "stdout",
          "text": [
            "50    1357.56400\n",
            "37     415.49380\n",
            "7       96.33914\n",
            "29     346.11290\n",
            "23     291.23810\n",
            "44     627.77420\n",
            "20     266.57790\n",
            "26     310.46590\n",
            "11     118.60320\n",
            "41     451.57300\n",
            "60    1927.70800\n",
            "4      115.53750\n",
            "42     470.98680\n",
            "19     224.00100\n",
            "52    1443.88200\n",
            "32     316.95390\n",
            "Name: Gdp per capita, dtype: float64\n"
          ]
        }
      ]
    },
    {
      "cell_type": "code",
      "source": [
        "plt.scatter(ct_test, y_test, color ='blue')\n",
        "plt.scatter(ct_test, y_forest_predict, color='red')\n",
        "# plt.scatter(ct_train,y_train,color='yellow')\n",
        "plt.xlabel('Year')\n",
        "plt.ylabel('GDP per capita')\n",
        "plt.xticks(rotation=90)\n",
        "plt.show()"
      ],
      "metadata": {
        "id": "LC8egiPxtq-P",
        "colab": {
          "base_uri": "https://localhost:8080/",
          "height": 471
        },
        "outputId": "7d59ef23-05bb-44b6-a013-36fb8fbabda3"
      },
      "execution_count": null,
      "outputs": [
        {
          "output_type": "display_data",
          "data": {
            "text/plain": [
              "<Figure size 640x480 with 1 Axes>"
            ],
            "image/png": "[encoded data removed]"
          },
          "metadata": {}
        }
      ]
    },
    {
      "cell_type": "code",
      "source": [
        "r2_score(y_test, y_forest_predict)"
      ],
      "metadata": {
        "id": "SVYlunSnuFCX",
        "colab": {
          "base_uri": "https://localhost:8080/"
        },
        "outputId": "77bd5112-3dc4-45ac-90fa-39aeea2fb963"
      },
      "execution_count": null,
      "outputs": [
        {
          "output_type": "execute_result",
          "data": {
            "text/plain": [
              "0.9947197533167935"
            ]
          },
          "metadata": {},
          "execution_count": 53
        }
      ]
    },
    {
      "cell_type": "markdown",
      "source": [
        "Polynomial Regression Starts\n",
        "\n",
        "Function for calculating y=w0*x1+w1*(x1^2)+w2*(x2^1)+w2*(x2^2).............+b"
      ],
      "metadata": {
        "id": "llp32Xkkj5xw"
      }
    },
    {
      "cell_type": "code",
      "source": [
        "from sklearn.preprocessing import PolynomialFeatures"
      ],
      "metadata": {
        "id": "RomjzoGTuWTU"
      },
      "execution_count": null,
      "outputs": []
    },
    {
      "cell_type": "code",
      "source": [
        "poly = PolynomialFeatures(2)"
      ],
      "metadata": {
        "id": "zsbILMuqziY2"
      },
      "execution_count": null,
      "outputs": []
    },
    {
      "cell_type": "code",
      "source": [
        "X_poly=poly.fit_transform(X_train)\n",
        "poly.fit(X_poly,y_train)\n",
        "linear=LinearRegression()\n",
        "linear.fit(X_poly,y_train)"
      ],
      "metadata": {
        "id": "evR-xHszzlpK",
        "colab": {
          "base_uri": "https://localhost:8080/",
          "height": 75
        },
        "outputId": "6f17f619-d099-4e32-f2a8-9e2b3804a8ac"
      },
      "execution_count": null,
      "outputs": [
        {
          "output_type": "execute_result",
          "data": {
            "text/plain": [
              "LinearRegression()"
            ],
            "text/html": [
              "<style>#sk-container-id-1 {color: black;background-color: white;}#sk-container-id-1 pre{padding: 0;}#sk-container-id-1 div.sk-toggleable {background-color: white;}#sk-container-id-1 label.sk-toggleable__label {cursor: pointer;display: block;width: 100%;margin-bottom: 0;padding: 0.3em;box-sizing: border-box;text-align: center;}#sk-container-id-1 label.sk-toggleable__label-arrow:before {content: \"▸\";float: left;margin-right: 0.25em;color: #696969;}#sk-container-id-1 label.sk-toggleable__label-arrow:hover:before {color: black;}#sk-container-id-1 div.sk-estimator:hover label.sk-toggleable__label-arrow:before {color: black;}#sk-container-id-1 div.sk-toggleable__content {max-height: 0;max-width: 0;overflow: hidden;text-align: left;background-color: #f0f8ff;}#sk-container-id-1 div.sk-toggleable__content pre {margin: 0.2em;color: black;border-radius: 0.25em;background-color: #f0f8ff;}#sk-container-id-1 input.sk-toggleable__control:checked~div.sk-toggleable__content {max-height: 200px;max-width: 100%;overflow: auto;}#sk-container-id-1 input.sk-toggleable__control:checked~label.sk-toggleable__label-arrow:before {content: \"▾\";}#sk-container-id-1 div.sk-estimator input.sk-toggleable__control:checked~label.sk-toggleable__label {background-color: #d4ebff;}#sk-container-id-1 div.sk-label input.sk-toggleable__control:checked~label.sk-toggleable__label {background-color: #d4ebff;}#sk-container-id-1 input.sk-hidden--visually {border: 0;clip: rect(1px 1px 1px 1px);clip: rect(1px, 1px, 1px, 1px);height: 1px;margin: -1px;overflow: hidden;padding: 0;position: absolute;width: 1px;}#sk-container-id-1 div.sk-estimator {font-family: monospace;background-color: #f0f8ff;border: 1px dotted black;border-radius: 0.25em;box-sizing: border-box;margin-bottom: 0.5em;}#sk-container-id-1 div.sk-estimator:hover {background-color: #d4ebff;}#sk-container-id-1 div.sk-parallel-item::after {content: \"\";width: 100%;border-bottom: 1px solid gray;flex-grow: 1;}#sk-container-id-1 div.sk-label:hover label.sk-toggleable__label {background-color: #d4ebff;}#sk-container-id-1 div.sk-serial::before {content: \"\";position: absolute;border-left: 1px solid gray;box-sizing: border-box;top: 0;bottom: 0;left: 50%;z-index: 0;}#sk-container-id-1 div.sk-serial {display: flex;flex-direction: column;align-items: center;background-color: white;padding-right: 0.2em;padding-left: 0.2em;position: relative;}#sk-container-id-1 div.sk-item {position: relative;z-index: 1;}#sk-container-id-1 div.sk-parallel {display: flex;align-items: stretch;justify-content: center;background-color: white;position: relative;}#sk-container-id-1 div.sk-item::before, #sk-container-id-1 div.sk-parallel-item::before {content: \"\";position: absolute;border-left: 1px solid gray;box-sizing: border-box;top: 0;bottom: 0;left: 50%;z-index: -1;}#sk-container-id-1 div.sk-parallel-item {display: flex;flex-direction: column;z-index: 1;position: relative;background-color: white;}#sk-container-id-1 div.sk-parallel-item:first-child::after {align-self: flex-end;width: 50%;}#sk-container-id-1 div.sk-parallel-item:last-child::after {align-self: flex-start;width: 50%;}#sk-container-id-1 div.sk-parallel-item:only-child::after {width: 0;}#sk-container-id-1 div.sk-dashed-wrapped {border: 1px dashed gray;margin: 0 0.4em 0.5em 0.4em;box-sizing: border-box;padding-bottom: 0.4em;background-color: white;}#sk-container-id-1 div.sk-label label {font-family: monospace;font-weight: bold;display: inline-block;line-height: 1.2em;}#sk-container-id-1 div.sk-label-container {text-align: center;}#sk-container-id-1 div.sk-container {/* jupyter's `normalize.less` sets `[hidden] { display: none; }` but bootstrap.min.css set `[hidden] { display: none !important; }` so we also need the `!important` here to be able to override the default hidden behavior on the sphinx rendered scikit-learn.org. See: https://github.com/scikit-learn/scikit-learn/issues/21755 */display: inline-block !important;position: relative;}#sk-container-id-1 div.sk-text-repr-fallback {display: none;}</style><div id=\"sk-container-id-1\" class=\"sk-top-container\"><div class=\"sk-text-repr-fallback\"><pre>LinearRegression()</pre><b>In a Jupyter environment, please rerun this cell to show the HTML representation or trust the notebook. <br />On GitHub, the HTML representation is unable to render, please try loading this page with nbviewer.org.</b></div><div class=\"sk-container\" hidden><div class=\"sk-item\"><div class=\"sk-estimator sk-toggleable\"><input class=\"sk-toggleable__control sk-hidden--visually\" id=\"sk-estimator-id-1\" type=\"checkbox\" checked><label for=\"sk-estimator-id-1\" class=\"sk-toggleable__label sk-toggleable__label-arrow\">LinearRegression</label><div class=\"sk-toggleable__content\"><pre>LinearRegression()</pre></div></div></div></div></div>"
            ]
          },
          "metadata": {},
          "execution_count": 56
        }
      ]
    },
    {
      "cell_type": "code",
      "source": [
        "y_poly_pred = linear.predict(poly.fit_transform(X_test))\n",
        "y_poly_pred\n",
        "mean_squared_error(y_poly_pred,y_test,squared=False)"
      ],
      "metadata": {
        "id": "kmgw9YCrz6aY",
        "colab": {
          "base_uri": "https://localhost:8080/"
        },
        "outputId": "79459a04-1e08-4362-8258-6e08bcc6ca50"
      },
      "execution_count": null,
      "outputs": [
        {
          "output_type": "execute_result",
          "data": {
            "text/plain": [
              "160.69155574121038"
            ]
          },
          "metadata": {},
          "execution_count": 57
        }
      ]
    },
    {
      "cell_type": "code",
      "source": [
        "r2_score(y_test, y_poly_pred)"
      ],
      "metadata": {
        "id": "AfHraoeV5RKA",
        "colab": {
          "base_uri": "https://localhost:8080/"
        },
        "outputId": "4d3960c3-c8b8-4dc5-9c54-4b74928e4e98"
      },
      "execution_count": null,
      "outputs": [
        {
          "output_type": "execute_result",
          "data": {
            "text/plain": [
              "0.9056049103274056"
            ]
          },
          "metadata": {},
          "execution_count": 58
        }
      ]
    },
    {
      "cell_type": "code",
      "source": [
        "plt.scatter(ct_test, y_test, color ='blue')\n",
        "plt.scatter(ct_test, y_poly_pred, color='red')\n",
        "# plt.scatter(ct_train,y_train,color='yellow')\n",
        "plt.xlabel('Year')\n",
        "plt.ylabel('GDP per capita')\n",
        "plt.xticks(rotation=90)\n",
        "plt.grid()\n",
        "plt.show()"
      ],
      "metadata": {
        "id": "ozv5m0Dr5vts",
        "colab": {
          "base_uri": "https://localhost:8080/",
          "height": 471
        },
        "outputId": "4bc109c1-16ec-45a8-b016-aee0421a9f25"
      },
      "execution_count": null,
      "outputs": [
        {
          "output_type": "display_data",
          "data": {
            "text/plain": [
              "<Figure size 640x480 with 1 Axes>"
            ],
            "image/png": "[encoded data removed]"
          },
          "metadata": {}
        }
      ]
    },
    {
      "cell_type": "markdown",
      "source": [
        "Deep Neural Network model starts\n",
        "\n",
        "With the model as defined below with 100 epochs"
      ],
      "metadata": {
        "id": "Zf6xj5ebkYo3"
      }
    },
    {
      "cell_type": "code",
      "source": [
        "import tensorflow as tf\n",
        "from tensorflow import keras"
      ],
      "metadata": {
        "id": "ixnk0aqC2IeJ"
      },
      "execution_count": null,
      "outputs": []
    },
    {
      "cell_type": "code",
      "source": [
        "model = keras.Sequential(\n",
        "    [\n",
        "        keras.layers.Dense(100, activation=\"linear\",),\n",
        "        keras.layers.Dense(50, activation=\"linear\", ),\n",
        "        keras.layers.Dense(20, activation=\"linear\"),\n",
        "        keras.layers.Dense(1,activation=\"linear\")\n",
        "    ]\n",
        ")\n",
        "\n"
      ],
      "metadata": {
        "id": "DQvi3n1g1N3H"
      },
      "execution_count": null,
      "outputs": []
    },
    {
      "cell_type": "code",
      "source": [
        "custom_optimizer=tf.keras.optimizers.Adam(learning_rate=0.01)\n",
        "model.compile(optimizer=custom_optimizer,loss='mean_absolute_error')\n",
        "X_train_tens = tf.convert_to_tensor(X_train)\n",
        "y_train_tens=tf.convert_to_tensor(y_train)\n",
        "model.fit(X_train_tens,y_train_tens,epochs=100)"
      ],
      "metadata": {
        "id": "hnGQ6z851Ngt"
      },
      "execution_count": null,
      "outputs": []
    },
    {
      "cell_type": "code",
      "source": [
        "y_nn_pred=model.predict(X_test)\n",
        "y_nn_pred"
      ],
      "metadata": {
        "id": "rOof9u901z4E",
        "colab": {
          "base_uri": "https://localhost:8080/"
        },
        "outputId": "fab34d2f-cbe3-406f-96e2-086dd4a1d97e"
      },
      "execution_count": null,
      "outputs": [
        {
          "output_type": "stream",
          "name": "stdout",
          "text": [
            "1/1 [==============================] - 0s 181ms/step\n"
          ]
        },
        {
          "output_type": "execute_result",
          "data": {
            "text/plain": [
              "array([[1158.385   ],\n",
              "       [ 565.4246  ],\n",
              "       [ 276.47775 ],\n",
              "       [ 292.89496 ],\n",
              "       [ 205.1639  ],\n",
              "       [1007.37494 ],\n",
              "       [ 164.34264 ],\n",
              "       [ 265.31018 ],\n",
              "       [  97.13392 ],\n",
              "       [ 815.6202  ],\n",
              "       [1605.1006  ],\n",
              "       [  51.235607],\n",
              "       [ 868.88416 ],\n",
              "       [  38.080463],\n",
              "       [1409.3784  ],\n",
              "       [ 526.9636  ]], dtype=float32)"
            ]
          },
          "metadata": {},
          "execution_count": 63
        }
      ]
    },
    {
      "cell_type": "code",
      "source": [
        "r2_score(y_test, y_nn_pred)"
      ],
      "metadata": {
        "id": "ERHX7uYl2VvN",
        "colab": {
          "base_uri": "https://localhost:8080/"
        },
        "outputId": "23205890-9469-477b-d935-124815c0ec94"
      },
      "execution_count": null,
      "outputs": [
        {
          "output_type": "execute_result",
          "data": {
            "text/plain": [
              "0.8307404780544091"
            ]
          },
          "metadata": {},
          "execution_count": 64
        }
      ]
    },
    {
      "cell_type": "code",
      "source": [
        "plt.scatter(ct_test, y_test, color ='blue')\n",
        "plt.scatter(ct_test, y_nn_pred, color='red')\n",
        "# plt.scatter(ct_train,y_train,color='yellow')\n",
        "plt.xlabel('Year')\n",
        "plt.ylabel('GDP per capita')\n",
        "plt.xticks(rotation=90)\n",
        "plt.show()"
      ],
      "metadata": {
        "id": "MGxYgUQ43QUm",
        "colab": {
          "base_uri": "https://localhost:8080/",
          "height": 472
        },
        "outputId": "759bef24-c3e0-4379-9e35-ce7e793ca157"
      },
      "execution_count": null,
      "outputs": [
        {
          "output_type": "display_data",
          "data": {
            "text/plain": [
              "<Figure size 640x480 with 1 Axes>"
            ],
            "image/png": "[encoded data removed]"
          },
          "metadata": {}
        }
      ]
    },
    {
      "cell_type": "markdown",
      "source": [
        "Decision Tree Regressor Starts from Here"
      ],
      "metadata": {
        "id": "mE17oiPisFpz"
      }
    },
    {
      "cell_type": "code",
      "source": [
        "from sklearn.tree import DecisionTreeRegressor\n",
        "regressordec = DecisionTreeRegressor(random_state = 0)\n",
        "regressordec.fit(X_train, y_train)\n",
        "y_reg_predict=regressordec.predict(X_test)\n"
      ],
      "metadata": {
        "id": "KxGB9wIcrhpc"
      },
      "execution_count": null,
      "outputs": []
    },
    {
      "cell_type": "code",
      "source": [
        "y_reg_predict"
      ],
      "metadata": {
        "id": "FX7zOhVkr48c",
        "colab": {
          "base_uri": "https://localhost:8080/"
        },
        "outputId": "572a0bd8-cdbc-4bb2-cce8-9231661fc2d3"
      },
      "execution_count": null,
      "outputs": [
        {
          "output_type": "execute_result",
          "data": {
            "text/plain": [
              "array([1101.961 ,  399.9501,   89.9973,  367.5566,  340.4168,  714.861 ,\n",
              "        205.6934,  340.4168,  101.1264,  441.9988, 2100.751 ,   89.9973,\n",
              "        546.7266,  296.4352, 1449.61  ,  303.0556])"
            ]
          },
          "metadata": {},
          "execution_count": 67
        }
      ]
    },
    {
      "cell_type": "code",
      "source": [
        "r2_score(y_test, y_reg_predict)"
      ],
      "metadata": {
        "id": "TLfGCKxKr8Mx",
        "colab": {
          "base_uri": "https://localhost:8080/"
        },
        "outputId": "e776a27c-e4df-460c-e288-b6861f003460"
      },
      "execution_count": null,
      "outputs": [
        {
          "output_type": "execute_result",
          "data": {
            "text/plain": [
              "0.97192385358908"
            ]
          },
          "metadata": {},
          "execution_count": 68
        }
      ]
    },
    {
      "cell_type": "code",
      "source": [
        "plt.scatter(ct_test, y_test, color ='blue')\n",
        "plt.scatter(ct_test, y_reg_predict, color='red')\n",
        "# plt.scatter(ct_train,y_train,color='yellow')\n",
        "plt.xlabel('Year')\n",
        "plt.ylabel('GDP per capita')\n",
        "plt.xticks(rotation=90)\n",
        "plt.show()"
      ],
      "metadata": {
        "id": "pDSbtoTY1NZ7",
        "colab": {
          "base_uri": "https://localhost:8080/",
          "height": 471
        },
        "outputId": "28e9efb8-2047-4ace-9c87-87db1a0b1f48"
      },
      "execution_count": null,
      "outputs": [
        {
          "output_type": "display_data",
          "data": {
            "text/plain": [
              "<Figure size 640x480 with 1 Axes>"
            ],
            "image/png": "[encoded data removed]"
          },
          "metadata": {}
        }
      ]
    },
    {
      "cell_type": "markdown",
      "source": [
        "Here we conclude the programming part with 5 models namely(ranked on basis of performance):\n",
        "\n",
        "\n",
        "\n",
        "*   Random Forest Regresssor\n",
        "*   Decision Tree Regressor\n",
        "*   Polynomial Regression\n",
        "*   Deep Neural Network\n",
        "*   Linear Regression\n",
        "\n",
        "\n",
        "\n"
      ],
      "metadata": {
        "id": "vLQ18cMnljU5"
      }
    },
    {
      "cell_type": "markdown",
      "source": [
        "Random Forest Regressor was pretty successful in predicting values but linear rfegression couldn't fit well with r2 score of merely 0.76"
      ],
      "metadata": {
        "id": "Uh72UyECmH7h"
      }
    }
  ]
}